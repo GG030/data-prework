{
 "cells": [
  {
   "cell_type": "code",
   "execution_count": 52,
   "metadata": {},
   "outputs": [],
   "source": [
    "POWER = {\n",
    "    'Fireball': 50, \n",
    "    'Lightning bolt': 40, \n",
    "    'Magic arrow': 10, \n",
    "    'Black Tentacles': 25, \n",
    "    'Contagion': 45\n",
    "}\n",
    "\n",
    "gandalf = ['Fireball', 'Lightning bolt', 'Lightning bolt', 'Magic arrow', 'Fireball', \n",
    "           'Magic arrow', 'Lightning bolt', 'Fireball', 'Fireball', 'Fireball']\n",
    "\n",
    "saruman = ['Contagion', 'Contagion', 'Black Tentacles', 'Fireball', 'Black Tentacles', \n",
    "           'Lightning bolt', 'Magic arrow', 'Contagion', 'Magic arrow', 'Magic arrow']\n",
    "spells = 0"
   ]
  },
  {
   "cell_type": "code",
   "execution_count": null,
   "metadata": {},
   "outputs": [],
   "source": []
  },
  {
   "cell_type": "code",
   "execution_count": 53,
   "metadata": {},
   "outputs": [],
   "source": [
    "gandalf_wins = 0\n",
    "saruman_wins = 0"
   ]
  },
  {
   "cell_type": "code",
   "execution_count": 54,
   "metadata": {},
   "outputs": [],
   "source": [
    "gandalf_power = []\n",
    "saruman_power = []\n"
   ]
  },
  {
   "cell_type": "code",
   "execution_count": 55,
   "metadata": {},
   "outputs": [
    {
     "name": "stdout",
     "output_type": "stream",
     "text": [
      "[50]\n",
      "[50, 40]\n",
      "[50, 40, 40]\n",
      "[50, 40, 40, 10]\n",
      "[50, 40, 40, 10, 50]\n",
      "[50, 40, 40, 10, 50, 10]\n",
      "[50, 40, 40, 10, 50, 10, 40]\n",
      "[50, 40, 40, 10, 50, 10, 40, 50]\n",
      "[50, 40, 40, 10, 50, 10, 40, 50, 50]\n",
      "[50, 40, 40, 10, 50, 10, 40, 50, 50, 50]\n",
      "[45]\n",
      "[45, 45]\n",
      "[45, 45, 25]\n",
      "[45, 45, 25, 50]\n",
      "[45, 45, 25, 50, 25]\n",
      "[45, 45, 25, 50, 25, 40]\n",
      "[45, 45, 25, 50, 25, 40, 10]\n",
      "[45, 45, 25, 50, 25, 40, 10, 45]\n",
      "[45, 45, 25, 50, 25, 40, 10, 45, 10]\n",
      "[45, 45, 25, 50, 25, 40, 10, 45, 10, 10]\n",
      "[50, 40, 40, 10, 50, 10, 40, 50, 50, 50]\n",
      "[45, 45, 25, 50, 25, 40, 10, 45, 10, 10]\n"
     ]
    }
   ],
   "source": [
    "#for keys, value in POWER.items():\n",
    "    #print(keys,value)\n",
    "    \n",
    "saruman_power=[] \n",
    "for i in gandalf:\n",
    "    for power, value in POWER.items():\n",
    "        if i == power:\n",
    "            value = value\n",
    "            gandalf_power.append(value)\n",
    "            print(gandalf_power)\n",
    "            \n",
    "saruman_power=[]            \n",
    "for i in saruman:\n",
    "    for power, value in POWER.items():\n",
    "        if i == power:\n",
    "            value = value\n",
    "            saruman_power.append(value)\n",
    "            print(saruman_power)\n",
    "            \n",
    "print(gandalf_power)\n",
    "print(saruman_power)"
   ]
  },
  {
   "cell_type": "code",
   "execution_count": 57,
   "metadata": {},
   "outputs": [
    {
     "name": "stdout",
     "output_type": "stream",
     "text": [
      "gandalf won\n",
      "gandalf won\n",
      "gandalf won\n",
      "gandalf won\n",
      "gandalf won\n",
      "gandalf won\n",
      "gandalf won\n",
      "gandalf won\n",
      "gandalf won\n",
      "saruman won\n",
      "saruman won\n",
      "gandalf won\n",
      "saruman won\n",
      "gandalf won\n",
      "gandalf won\n",
      "saruman won\n",
      "gandalf won\n",
      "gandalf won\n",
      "saruman won\n",
      "saruman won\n",
      "gandalf won\n",
      "saruman won\n",
      "gandalf won\n",
      "gandalf won\n",
      "saruman won\n",
      "gandalf won\n",
      "gandalf won\n",
      "saruman won\n",
      "saruman won\n",
      "saruman won\n",
      "saruman won\n",
      "saruman won\n",
      "saruman won\n",
      "saruman won\n",
      "gandalf won\n",
      "gandalf won\n",
      "gandalf won\n",
      "gandalf won\n",
      "gandalf won\n",
      "gandalf won\n",
      "gandalf won\n",
      "gandalf won\n",
      "gandalf won\n",
      "saruman won\n",
      "saruman won\n",
      "saruman won\n",
      "saruman won\n",
      "saruman won\n",
      "saruman won\n",
      "saruman won\n",
      "saruman won\n",
      "saruman won\n",
      "gandalf won\n",
      "saruman won\n",
      "gandalf won\n",
      "gandalf won\n",
      "saruman won\n",
      "gandalf won\n",
      "gandalf won\n",
      "gandalf won\n",
      "gandalf won\n",
      "gandalf won\n",
      "gandalf won\n",
      "gandalf won\n",
      "gandalf won\n",
      "gandalf won\n",
      "gandalf won\n",
      "gandalf won\n",
      "gandalf won\n",
      "gandalf won\n",
      "gandalf won\n",
      "gandalf won\n",
      "gandalf won\n",
      "gandalf won\n",
      "gandalf won\n",
      "gandalf won\n",
      "gandalf won\n",
      "gandalf won\n",
      "gandalf won\n",
      "gandalf won\n",
      "gandalf won\n",
      "gandalf won\n",
      "gandalf won\n",
      "gandalf won\n",
      "gandalf won\n",
      "gandalf won\n",
      "Gandalf: 120 to Saruman: 52\n",
      "number of spells: 172\n",
      "gandalf won!\n"
     ]
    }
   ],
   "source": [
    "for i in gandalf_power:\n",
    "    for j in saruman_power:\n",
    "        if i > j:\n",
    "            print(\"gandalf won\")\n",
    "            gandalf_wins = gandalf_wins + 1\n",
    "            spells = spells + 1\n",
    "        elif i < j:\n",
    "            print(\"saruman won\")\n",
    "            saruman_wins = saruman_wins + 1\n",
    "            spells = spells + 1\n",
    "\n",
    "print(\"Gandalf:\",gandalf_wins, \"to\",\"Saruman:\", saruman_wins )\n",
    "print(\"number of spells:\",spells)\n",
    "if gandalf_wins > saruman_wins:\n",
    "    print(\"gandalf won!\")\n",
    "else:\n",
    "    print(\"saruman won!\")\n"
   ]
  },
  {
   "cell_type": "code",
   "execution_count": 58,
   "metadata": {},
   "outputs": [
    {
     "ename": "NameError",
     "evalue": "name 'mean' is not defined",
     "output_type": "error",
     "traceback": [
      "\u001b[0;31m---------------------------------------------------------------------------\u001b[0m",
      "\u001b[0;31mNameError\u001b[0m                                 Traceback (most recent call last)",
      "\u001b[0;32m<ipython-input-58-14bf63f21e02>\u001b[0m in \u001b[0;36m<module>\u001b[0;34m\u001b[0m\n\u001b[0;32m----> 1\u001b[0;31m \u001b[0mmean\u001b[0m\u001b[0;34m(\u001b[0m\u001b[0mgandalf_power\u001b[0m\u001b[0;34m)\u001b[0m\u001b[0;34m\u001b[0m\u001b[0;34m\u001b[0m\u001b[0m\n\u001b[0m",
      "\u001b[0;31mNameError\u001b[0m: name 'mean' is not defined"
     ]
    }
   ],
   "source": [
    "mean(gandalf_power)\n",
    "sd(gandalf_power)"
   ]
  },
  {
   "cell_type": "code",
   "execution_count": null,
   "metadata": {},
   "outputs": [],
   "source": []
  }
 ],
 "metadata": {
  "kernelspec": {
   "display_name": "Python 3",
   "language": "python",
   "name": "python3"
  },
  "language_info": {
   "codemirror_mode": {
    "name": "ipython",
    "version": 3
   },
   "file_extension": ".py",
   "mimetype": "text/x-python",
   "name": "python",
   "nbconvert_exporter": "python",
   "pygments_lexer": "ipython3",
   "version": "3.8.2"
  }
 },
 "nbformat": 4,
 "nbformat_minor": 4
}
