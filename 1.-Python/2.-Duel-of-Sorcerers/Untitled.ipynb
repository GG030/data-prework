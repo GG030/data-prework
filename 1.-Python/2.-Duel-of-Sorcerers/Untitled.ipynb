{
 "cells": [
  {
   "cell_type": "code",
   "execution_count": 21,
   "metadata": {},
   "outputs": [
    {
     "name": "stdout",
     "output_type": "stream",
     "text": [
      "[50, 40, 40, 10, 50, 10, 40, 50, 50, 50]\n",
      "[45, 45, 25, 50, 25, 40, 10, 45, 10, 10]\n"
     ]
    }
   ],
   "source": [
    "POWER = {\n",
    "    'Fireball': 50, \n",
    "    'Lightning bolt': 40, \n",
    "    'Magic arrow': 10, \n",
    "    'Black Tentacles': 25, \n",
    "    'Contagion': 45\n",
    "}\n",
    "\n",
    "gandalf = ['Fireball', 'Lightning bolt', 'Lightning bolt', 'Magic arrow', 'Fireball', \n",
    "           'Magic arrow', 'Lightning bolt', 'Fireball', 'Fireball', 'Fireball']\n",
    "\n",
    "saruman = ['Contagion', 'Contagion', 'Black Tentacles', 'Fireball', 'Black Tentacles', \n",
    "           'Lightning bolt', 'Magic arrow', 'Contagion', 'Magic arrow', 'Magic arrow']\n",
    "\n",
    "gandalf_wins = 0\n",
    "saruman_wins = 0\n",
    "\n",
    "tie = 0\n",
    "spells = 0\n",
    "win_row_g = 0\n",
    "win_row_s = 0\n",
    "\n",
    "gandalf_power = []\n",
    "saruman_power = []\n",
    "\n",
    "saruman_power=[] \n",
    "for i in gandalf:\n",
    "    for power, value in POWER.items():\n",
    "        if i == power:\n",
    "            value = value\n",
    "            gandalf_power.append(value)\n",
    "            #print(gandalf_power)\n",
    "            \n",
    "saruman_power=[]            \n",
    "for i in saruman:\n",
    "    for power, value in POWER.items():\n",
    "        if i == power:\n",
    "            value = value\n",
    "            saruman_power.append(value)\n",
    "            #print(saruman_power)\n",
    "            \n",
    "print(gandalf_power)\n",
    "print(saruman_power)"
   ]
  },
  {
   "cell_type": "code",
   "execution_count": 20,
   "metadata": {},
   "outputs": [
    {
     "name": "stdout",
     "output_type": "stream",
     "text": [
      "0\n",
      "0\n",
      "Gandalf: 0 to Saruman: 0 number of tie: 0\n",
      "number of spells: 0\n",
      "saruman won!\n"
     ]
    }
   ],
   "source": [
    "while win_row_s | win_row_g <= 3:\n",
    "    break\n",
    "    for i, j in gandalf_power, saruman_power:\n",
    "    \n",
    "        if i > j:\n",
    "            win_row_s = 0\n",
    "            gandalf_wins = gandalf_wins + 1\n",
    "            spells = spells + 1\n",
    "            win_row_g = win_row_g + 1\n",
    "            #print(\"gandalf won\")\n",
    "            \n",
    "        elif i < j:\n",
    "            win_row_g = 0\n",
    "            saruman_wins = saruman_wins + 1\n",
    "            spells = spells + 1\n",
    "            win_row_s = win_row_s + 1\n",
    "            #print(\"saruman won\")\n",
    "        \n",
    "        elif i == j:\n",
    "            tie = tie + 1\n",
    "            spells = spells + 1\n",
    "            \n",
    "print(win_row_s)\n",
    "print(win_row_g)\n",
    "print(\"Gandalf:\",gandalf_wins, \"to\",\"Saruman:\", saruman_wins, \"number of tie:\", tie)\n",
    "print(\"number of spells:\",spells)\n",
    "\n",
    "if gandalf_wins > saruman_wins:\n",
    "    print(\"gandalf won!\")\n",
    "else:\n",
    "    print(\"saruman won!\")"
   ]
  },
  {
   "cell_type": "code",
   "execution_count": null,
   "metadata": {},
   "outputs": [],
   "source": []
  },
  {
   "cell_type": "code",
   "execution_count": null,
   "metadata": {},
   "outputs": [],
   "source": []
  }
 ],
 "metadata": {
  "kernelspec": {
   "display_name": "Python 3",
   "language": "python",
   "name": "python3"
  },
  "language_info": {
   "codemirror_mode": {
    "name": "ipython",
    "version": 3
   },
   "file_extension": ".py",
   "mimetype": "text/x-python",
   "name": "python",
   "nbconvert_exporter": "python",
   "pygments_lexer": "ipython3",
   "version": "3.8.2"
  }
 },
 "nbformat": 4,
 "nbformat_minor": 4
}
