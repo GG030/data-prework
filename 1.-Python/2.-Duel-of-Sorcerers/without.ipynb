{
 "cells": [
  {
   "cell_type": "code",
   "execution_count": 12,
   "metadata": {},
   "outputs": [],
   "source": [
    "\n"
   ]
  },
  {
   "cell_type": "code",
   "execution_count": 13,
   "metadata": {},
   "outputs": [],
   "source": [
    "\n",
    "    "
   ]
  },
  {
   "cell_type": "code",
   "execution_count": 28,
   "metadata": {},
   "outputs": [
    {
     "name": "stdout",
     "output_type": "stream",
     "text": [
      "Gandalf: 35 to Saruman: 63 number of tie: 2\n",
      "number of spells: 100\n",
      "saruman won!\n"
     ]
    }
   ],
   "source": [
    "gandalf = [10, 11, 13, 30, 22, 11, 10, 33, 22, 22]\n",
    "saruman = [23, 66, 12, 43, 12, 10, 44, 23, 12, 17]\n",
    "spells = 0\n",
    "\n",
    "gandalf_wins = 0\n",
    "saruman_wins = 0\n",
    "tie = 0\n",
    "\n",
    "for i in gandalf:\n",
    "    for j in saruman:\n",
    "        if i > j:\n",
    "            #print(\"gandalf won\")\n",
    "            gandalf_wins = gandalf_wins + 1\n",
    "            spells = spells + 1\n",
    "        elif i < j:\n",
    "            #print(\"saruman won\")\n",
    "            saruman_wins = saruman_wins + 1\n",
    "            spells = spells + 1\n",
    "        elif i ==j:\n",
    "            #print(\"tie\")\n",
    "            tie = tie + 1\n",
    "            spells = spells + 1\n",
    "            \n",
    "\n",
    "print(\"Gandalf:\",gandalf_wins, \"to\",\"Saruman:\", saruman_wins, \"number of tie:\", tie)\n",
    "print(\"number of spells:\",spells)\n",
    "if gandalf_wins > saruman_wins:\n",
    "    print(\"gandalf won!\")\n",
    "else:\n",
    "    print(\"saruman won!\")"
   ]
  },
  {
   "cell_type": "code",
   "execution_count": 27,
   "metadata": {},
   "outputs": [
    {
     "name": "stdout",
     "output_type": "stream",
     "text": [
      "Gandalf: 53 to Saruman: 75 number of tie: 2\n",
      "number of spells: 130\n"
     ]
    }
   ],
   "source": [
    "\n",
    "\n",
    "\n",
    "\n",
    "for i,j in zip(gandalf,saruman):\n",
    "#for j in saruman:\n",
    "    if i > j:\n",
    "        #print(\"gandalf won\")\n",
    "        gandalf_wins = gandalf_wins + 1\n",
    "        spells = spells + 1\n",
    "    elif i < j:\n",
    "        #print(\"saruman won\")\n",
    "        saruman_wins = saruman_wins + 1\n",
    "        spells = spells + 1\n",
    "    elif i ==j:\n",
    "        #print(\"tie\")\n",
    "        tie = tie + 1\n",
    "        spells = spells + 1\n",
    "            \n",
    "\n",
    "print(\"Gandalf:\",gandalf_wins, \"to\",\"Saruman:\", saruman_wins, \"number of tie:\", tie)\n",
    "print(\"number of spells:\",spells)\n"
   ]
  },
  {
   "cell_type": "code",
   "execution_count": 26,
   "metadata": {},
   "outputs": [
    {
     "ename": "SyntaxError",
     "evalue": "Missing parentheses in call to 'print'. Did you mean print(i, j)? (<ipython-input-26-988280ec3161>, line 2)",
     "output_type": "error",
     "traceback": [
      "\u001b[0;36m  File \u001b[0;32m\"<ipython-input-26-988280ec3161>\"\u001b[0;36m, line \u001b[0;32m2\u001b[0m\n\u001b[0;31m    print i, j\u001b[0m\n\u001b[0m          ^\u001b[0m\n\u001b[0;31mSyntaxError\u001b[0m\u001b[0;31m:\u001b[0m Missing parentheses in call to 'print'. Did you mean print(i, j)?\n"
     ]
    }
   ],
   "source": [
    "for i, j in zip((1,2,3), (4,5,6)):\n",
    "    print i, j"
   ]
  },
  {
   "cell_type": "code",
   "execution_count": null,
   "metadata": {},
   "outputs": [],
   "source": []
  }
 ],
 "metadata": {
  "kernelspec": {
   "display_name": "Python 3",
   "language": "python",
   "name": "python3"
  },
  "language_info": {
   "codemirror_mode": {
    "name": "ipython",
    "version": 3
   },
   "file_extension": ".py",
   "mimetype": "text/x-python",
   "name": "python",
   "nbconvert_exporter": "python",
   "pygments_lexer": "ipython3",
   "version": "3.8.2"
  }
 },
 "nbformat": 4,
 "nbformat_minor": 4
}
