{
 "cells": [
  {
   "cell_type": "code",
   "execution_count": 4,
   "metadata": {},
   "outputs": [
    {
     "name": "stdout",
     "output_type": "stream",
     "text": [
      "Anzahl der Tage, die die Schnecke grbraucht hat: 10.5\n"
     ]
    }
   ],
   "source": [
    "well_height = 125\n",
    "daily_distance = 30\n",
    "nightly_distance = 20\n",
    "snail_position = 125\n",
    "\n",
    "days = 0\n",
    "\n",
    "while snail_position >= 0:\n",
    "    if snail_position >=0:\n",
    "     snail_position = snail_position - daily_distance\n",
    "     days  = days + 0.5\n",
    "    else:\n",
    "      print(\"Anzahl der Tage, die die Schnecke grbraucht hat:\", days)\n",
    "    \n",
    "    if snail_position >=0:\n",
    "     snail_position = snail_position + nightly_distance\n",
    "     days  = days + 0.5\n",
    "    else:\n",
    "      print(\"Anzahl der Tage, die die Schnecke gebraucht hat:\", days)\n",
    "\n",
    "    "
   ]
  },
  {
   "cell_type": "code",
   "execution_count": 22,
   "metadata": {},
   "outputs": [
    {
     "name": "stdout",
     "output_type": "stream",
     "text": [
      "Anzahl der Tage, die die Schnecke gebraucht hat: 5.5\n",
      "Anzahl der Tage, die die Schnecke gebraucht hat: 5.5\n",
      "Anzahl der Tage, die die Schnecke gebraucht hat: 5.5\n",
      "Anzahl der Tage, die die Schnecke gebraucht hat: 5.5\n",
      "Anzahl der Tage, die die Schnecke gebraucht hat: 5.5\n",
      "Anzahl der Tage, die die Schnecke gebraucht hat: 5.5\n",
      "[95, 115, 94, 114, 81, 101, 24, 44, 0, 20, -25]\n"
     ]
    },
    {
     "data": {
      "text/plain": [
       "21"
      ]
     },
     "execution_count": 22,
     "metadata": {},
     "output_type": "execute_result"
    }
   ],
   "source": [
    "advanced_cm = [30, 21, 33, 77, 44, 45, 23, 45, 12, 34, 55] \n",
    "well_height = 125\n",
    "daily_distance = 30\n",
    "nightly_distance = 20\n",
    "snail_position = 125\n",
    "\n",
    "days = 0\n",
    "\n",
    "snail_position_days = []\n",
    "\n",
    "while snail_position >= 0:\n",
    "    for  i in advanced_cm:\n",
    "        if snail_position >=0:\n",
    "            snail_position = snail_position - i\n",
    "            days = days + 0.5\n",
    "            snail_position_days.append(snail_position)\n",
    "    \n",
    "        if snail_position >=0:\n",
    "           snail_position = snail_position + nightly_distance\n",
    "           days  = days + 0.5\n",
    "           snail_position_days.append(snail_position)\n",
    "           #print(snail_position, days)\n",
    "        else:\n",
    "           print(\"Anzahl der Tage, die die Schnecke gebraucht hat:\", days)\n",
    "\n",
    "print(snail_position_days)\n",
    "   "
   ]
  },
  {
   "cell_type": "code",
   "execution_count": 23,
   "metadata": {},
   "outputs": [
    {
     "data": {
      "text/plain": [
       "77"
      ]
     },
     "execution_count": 23,
     "metadata": {},
     "output_type": "execute_result"
    }
   ],
   "source": [
    "max(advanced_cm[0:6])"
   ]
  },
  {
   "cell_type": "code",
   "execution_count": 24,
   "metadata": {},
   "outputs": [
    {
     "data": {
      "text/plain": [
       "21"
      ]
     },
     "execution_count": 24,
     "metadata": {},
     "output_type": "execute_result"
    }
   ],
   "source": [
    "min(advanced_cm[0:6])"
   ]
  },
  {
   "cell_type": "code",
   "execution_count": 27,
   "metadata": {},
   "outputs": [
    {
     "data": {
      "text/plain": [
       "41.666666666666664"
      ]
     },
     "execution_count": 27,
     "metadata": {},
     "output_type": "execute_result"
    }
   ],
   "source": [
    "sum(advanced_cm[0:6])/len(advanced_cm[0:6])"
   ]
  },
  {
   "cell_type": "code",
   "execution_count": 28,
   "metadata": {},
   "outputs": [
    {
     "ename": "NameError",
     "evalue": "name 'describe' is not defined",
     "output_type": "error",
     "traceback": [
      "\u001b[0;31m---------------------------------------------------------------------------\u001b[0m",
      "\u001b[0;31mNameError\u001b[0m                                 Traceback (most recent call last)",
      "\u001b[0;32m<ipython-input-28-480c15368fe8>\u001b[0m in \u001b[0;36m<module>\u001b[0;34m\u001b[0m\n\u001b[0;32m----> 1\u001b[0;31m \u001b[0mdescribe\u001b[0m\u001b[0;34m(\u001b[0m\u001b[0madvanced_cm\u001b[0m\u001b[0;34m[\u001b[0m\u001b[0;36m0\u001b[0m\u001b[0;34m:\u001b[0m\u001b[0;36m6\u001b[0m\u001b[0;34m]\u001b[0m\u001b[0;34m)\u001b[0m\u001b[0;34m\u001b[0m\u001b[0;34m\u001b[0m\u001b[0m\n\u001b[0m",
      "\u001b[0;31mNameError\u001b[0m: name 'describe' is not defined"
     ]
    }
   ],
   "source": []
  },
  {
   "cell_type": "code",
   "execution_count": null,
   "metadata": {},
   "outputs": [],
   "source": []
  }
 ],
 "metadata": {
  "kernelspec": {
   "display_name": "Python 3",
   "language": "python",
   "name": "python3"
  },
  "language_info": {
   "codemirror_mode": {
    "name": "ipython",
    "version": 3
   },
   "file_extension": ".py",
   "mimetype": "text/x-python",
   "name": "python",
   "nbconvert_exporter": "python",
   "pygments_lexer": "ipython3",
   "version": "3.8.2"
  }
 },
 "nbformat": 4,
 "nbformat_minor": 4
}
