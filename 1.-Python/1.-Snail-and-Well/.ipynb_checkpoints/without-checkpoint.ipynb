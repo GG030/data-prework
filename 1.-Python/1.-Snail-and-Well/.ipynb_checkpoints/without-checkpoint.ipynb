{
 "cells": [
  {
   "cell_type": "code",
   "execution_count": 1,
   "metadata": {},
   "outputs": [
    {
     "name": "stdout",
     "output_type": "stream",
     "text": [
      "die Schnecke klettert noch\n",
      "die Schnecke klettert noch\n",
      "die Schnecke klettert noch\n",
      "die Schnecke klettert noch\n",
      "die Schnecke klettert noch\n",
      "die Schnecke klettert noch\n",
      "die Schnecke klettert noch\n",
      "die Schnecke klettert noch\n",
      "die Schnecke klettert noch\n",
      "die Schnecke klettert noch\n",
      "die Schnecke klettert noch\n",
      "die Schnecke klettert noch\n",
      "die Schnecke klettert noch\n",
      "Anzahl der Tage, die die Schnecke grbraucht hat: 13\n"
     ]
    }
   ],
   "source": [
    "well_height = 125\n",
    "daily_distance = 30\n",
    "nightly_distance = 20\n",
    "snail_position = 125\n",
    "\n",
    "days = 0\n",
    "\n",
    "while snail_position >= 0:\n",
    "    snail_position = snail_position - daily_distance + nightly_distance\n",
    "    days += 1\n",
    "    print(\"die Schnecke klettert noch\")\n",
    "    \n",
    "print(\"Anzahl der Tage, die die Schnecke grbraucht hat:\", days)"
   ]
  },
  {
   "cell_type": "code",
   "execution_count": null,
   "metadata": {},
   "outputs": [],
   "source": []
  }
 ],
 "metadata": {
  "kernelspec": {
   "display_name": "Python 3",
   "language": "python",
   "name": "python3"
  },
  "language_info": {
   "codemirror_mode": {
    "name": "ipython",
    "version": 3
   },
   "file_extension": ".py",
   "mimetype": "text/x-python",
   "name": "python",
   "nbconvert_exporter": "python",
   "pygments_lexer": "ipython3",
   "version": "3.8.2"
  }
 },
 "nbformat": 4,
 "nbformat_minor": 4
}
