{
 "cells": [
  {
   "cell_type": "code",
   "execution_count": 53,
   "metadata": {},
   "outputs": [],
   "source": [
    "points = [(4, 5), (-0, 2), (4, 7), (1, -3), (3, -2), (4, 5), (3, 2), (5, 7), (-5, 7), (2, 2), (-4, 5), (0, -2),\n",
    "          (-4, 7), (-1, 3), (-3, 2), (-4, -5), (-3, 2), (5, 7), (5, 7), (2, 2), (9, 9), (-8, -9)]"
   ]
  },
  {
   "cell_type": "code",
   "execution_count": 3,
   "metadata": {},
   "outputs": [
    {
     "data": {
      "text/plain": [
       "22"
      ]
     },
     "execution_count": 3,
     "metadata": {},
     "output_type": "execute_result"
    }
   ],
   "source": [
    "len(points)"
   ]
  },
  {
   "cell_type": "code",
   "execution_count": null,
   "metadata": {},
   "outputs": [],
   "source": [
    "# Konvertieren der Menge in eine Liste points_unique\n",
    "points_unique = list(set(points))\n",
    "points_unique\n",
    "#len(points_unique)\n",
    "    "
   ]
  },
  {
   "cell_type": "code",
   "execution_count": 54,
   "metadata": {},
   "outputs": [
    {
     "name": "stdout",
     "output_type": "stream",
     "text": [
      "[2, 1, 1, 1, 1, 2, 1, 3, 1, 2, 1, 1, 1, 1, 2, 1, 2, 3, 3, 2, 1, 1]\n",
      "[(4, 5), (4, 5), (5, 7), (2, 2), (-3, 2), (-3, 2), (5, 7), (5, 7), (2, 2)]\n"
     ]
    }
   ],
   "source": [
    "liste_count = []\n",
    "liste_von_doppelten = []\n",
    "for i in points:\n",
    "    x = points.count(i)\n",
    "    liste_count.append(x)\n",
    "    if x>1:\n",
    "        y = i\n",
    "        liste_von_doppelten.append(y)\n",
    "    #print(\"mehrfach vorhanden:\",x)\n",
    "    #print(\"mehrfach vorhanden:\",i)\n",
    "    \n",
    "print(liste_count)\n",
    "print(liste_von_doppelten)\n"
   ]
  },
  {
   "cell_type": "code",
   "execution_count": 26,
   "metadata": {},
   "outputs": [
    {
     "name": "stdout",
     "output_type": "stream",
     "text": [
      "[(-3, 2), (4, 5), (5, 7), (2, 2)]\n"
     ]
    }
   ],
   "source": [
    "liste_von_doppelten = list(set(liste_von_doppelten))\n",
    "print(liste_von_doppelten)"
   ]
  },
  {
   "cell_type": "code",
   "execution_count": 27,
   "metadata": {},
   "outputs": [
    {
     "data": {
      "text/plain": [
       "[(-8, -9),\n",
       " (-5, 7),\n",
       " (-4, -5),\n",
       " (-4, 5),\n",
       " (-4, 7),\n",
       " (-3, 2),\n",
       " (-3, 2),\n",
       " (-1, 3),\n",
       " (0, -2),\n",
       " (0, 2),\n",
       " (1, -3),\n",
       " (2, 2),\n",
       " (2, 2),\n",
       " (3, -2),\n",
       " (3, 2),\n",
       " (4, 5),\n",
       " (4, 5),\n",
       " (4, 7),\n",
       " (5, 7),\n",
       " (5, 7),\n",
       " (5, 7),\n",
       " (9, 9)]"
      ]
     },
     "execution_count": 27,
     "metadata": {},
     "output_type": "execute_result"
    }
   ],
   "source": [
    "#alternative durch ablesen oder schleife mit i == i+1\n",
    "sorted(points)"
   ]
  },
  {
   "cell_type": "code",
   "execution_count": null,
   "metadata": {},
   "outputs": [],
   "source": [
    "# Alternative 2 lässt sich aber nicht importieren \n",
    "from iteration_utils import duplicates\n",
    "def listDups(points):\n",
    "  return list(duplicates(points))\n"
   ]
  },
  {
   "cell_type": "code",
   "execution_count": 28,
   "metadata": {},
   "outputs": [
    {
     "data": {
      "text/plain": [
       "(4, 5)"
      ]
     },
     "execution_count": 28,
     "metadata": {},
     "output_type": "execute_result"
    }
   ],
   "source": [
    "## Aufgabe 4.2 Quadranten\n",
    "points [0]"
   ]
  },
  {
   "cell_type": "code",
   "execution_count": 29,
   "metadata": {},
   "outputs": [
    {
     "data": {
      "text/plain": [
       "4"
      ]
     },
     "execution_count": 29,
     "metadata": {},
     "output_type": "execute_result"
    }
   ],
   "source": [
    "points [0][0]"
   ]
  },
  {
   "cell_type": "code",
   "execution_count": 30,
   "metadata": {},
   "outputs": [
    {
     "data": {
      "text/plain": [
       "5"
      ]
     },
     "execution_count": 30,
     "metadata": {},
     "output_type": "execute_result"
    }
   ],
   "source": [
    "points [0][1]"
   ]
  },
  {
   "cell_type": "code",
   "execution_count": 35,
   "metadata": {},
   "outputs": [
    {
     "name": "stdout",
     "output_type": "stream",
     "text": [
      "Q1: 10 Q2: 6 Q3: 2 Q4: 2\n",
      "Number of arrows, which doesnt belong to any quadrant: 2\n"
     ]
    }
   ],
   "source": [
    "Q1 = 0\n",
    "Q2 = 0\n",
    "Q3 = 0\n",
    "Q4 = 0\n",
    "not_belong_arrows = 0\n",
    "\n",
    "for i in points:\n",
    "    j = 0\n",
    "    if i[j] > 0 and  i[j+1] > 0:\n",
    "        Q1 = Q1 + 1\n",
    "        \n",
    "    elif i[j] < 0 and  i[j+1] > 0:\n",
    "        Q2 = Q2 + 1\n",
    "        \n",
    "    elif i[j] < 0 and  i[j+1] < 0:\n",
    "        Q3 = Q3 + 1\n",
    "        \n",
    "    elif i[j] > 0 and  i[j+1] < 0:\n",
    "        Q4 = Q4 + 1\n",
    "        \n",
    "    else:\n",
    "        not_belong_arrows = not_belong_arrows + 1\n",
    "        \n",
    "print (\"Q1:\",Q1,\"Q2:\",Q2, \"Q3:\",Q3,\"Q4:\",Q4)\n",
    "print(\"Number of arrows, which doesnt belong to any quadrant:\", not_belong_arrows)       \n"
   ]
  },
  {
   "cell_type": "code",
   "execution_count": 38,
   "metadata": {},
   "outputs": [],
   "source": [
    "## Aufgabe 4.3 ####\n",
    "import math\n",
    "x = 1\n",
    "y = 1\n",
    "\n",
    "## defining function for distance\n",
    "def distance(x,y):\n",
    "    r = math.sqrt(x**2 + y**2)\n",
    "    return r\n"
   ]
  },
  {
   "cell_type": "code",
   "execution_count": 39,
   "metadata": {},
   "outputs": [
    {
     "data": {
      "text/plain": [
       "1.4142135623730951"
      ]
     },
     "execution_count": 39,
     "metadata": {},
     "output_type": "execute_result"
    }
   ],
   "source": [
    "distance(1,1)"
   ]
  },
  {
   "cell_type": "code",
   "execution_count": 42,
   "metadata": {},
   "outputs": [],
   "source": [
    "x = 0\n",
    "y = 0\n",
    "distance_list = []\n",
    "for i in points:\n",
    "    j = 0\n",
    "    x = i[j]\n",
    "    y = i[j+1]\n",
    "    z = distance(x,y)\n",
    "    distance_list.append(z)\n",
    "\n",
    "\n",
    "    \n",
    "    \n",
    "    \n",
    "    \n",
    "    \n",
    "    "
   ]
  },
  {
   "cell_type": "code",
   "execution_count": 43,
   "metadata": {},
   "outputs": [
    {
     "name": "stdout",
     "output_type": "stream",
     "text": [
      "[6.4031242374328485, 2.0, 8.06225774829855, 3.1622776601683795, 3.605551275463989, 6.4031242374328485, 3.605551275463989, 8.602325267042627, 8.602325267042627, 2.8284271247461903, 6.4031242374328485, 2.0, 8.06225774829855, 3.1622776601683795, 3.605551275463989, 6.4031242374328485, 3.605551275463989, 8.602325267042627, 8.602325267042627, 2.8284271247461903, 12.727922061357855, 12.041594578792296]\n"
     ]
    }
   ],
   "source": [
    "print(distance_list)"
   ]
  },
  {
   "cell_type": "code",
   "execution_count": 49,
   "metadata": {},
   "outputs": [
    {
     "data": {
      "text/plain": [
       "2.0"
      ]
     },
     "execution_count": 49,
     "metadata": {},
     "output_type": "execute_result"
    }
   ],
   "source": [
    "# minimum der Liste\n",
    "min(distance_list)\n"
   ]
  },
  {
   "cell_type": "code",
   "execution_count": 48,
   "metadata": {},
   "outputs": [
    {
     "data": {
      "text/plain": [
       "2"
      ]
     },
     "execution_count": 48,
     "metadata": {},
     "output_type": "execute_result"
    }
   ],
   "source": [
    "# ckeckt wie häufig das Minimum in der Liste vorkommt\n",
    "distance_list.count(min(distance_list))\n"
   ]
  },
  {
   "cell_type": "code",
   "execution_count": 52,
   "metadata": {},
   "outputs": [
    {
     "name": "stdout",
     "output_type": "stream",
     "text": [
      "number of arrows, that missed the target: 2\n"
     ]
    }
   ],
   "source": [
    "## Aufgabe 4.4 ####\n",
    "hit = 0\n",
    "not_even = 0\n",
    "\n",
    "for i in distance_list:\n",
    "    if i < 9:\n",
    "        hit = hit + 1\n",
    "        #print(\"you hit the target!\")\n",
    "    else:\n",
    "        not_even = not_even + 1\n",
    "        #print(\"c´mon, Bro, visualize capitalism!\")\n",
    "print(\"number of arrows, that missed the target:\", not_even)       "
   ]
  },
  {
   "cell_type": "code",
   "execution_count": null,
   "metadata": {},
   "outputs": [],
   "source": []
  }
 ],
 "metadata": {
  "kernelspec": {
   "display_name": "Python 3",
   "language": "python",
   "name": "python3"
  },
  "language_info": {
   "codemirror_mode": {
    "name": "ipython",
    "version": 3
   },
   "file_extension": ".py",
   "mimetype": "text/x-python",
   "name": "python",
   "nbconvert_exporter": "python",
   "pygments_lexer": "ipython3",
   "version": "3.8.2"
  }
 },
 "nbformat": 4,
 "nbformat_minor": 4
}
