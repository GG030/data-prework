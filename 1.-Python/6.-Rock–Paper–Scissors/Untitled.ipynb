{
 "cells": [
  {
   "cell_type": "code",
   "execution_count": 59,
   "metadata": {},
   "outputs": [],
   "source": [
    "import random"
   ]
  },
  {
   "cell_type": "code",
   "execution_count": 60,
   "metadata": {},
   "outputs": [],
   "source": [
    "gestures = [\"rock\", \"paper\", \"scissors\"]"
   ]
  },
  {
   "cell_type": "code",
   "execution_count": 61,
   "metadata": {},
   "outputs": [],
   "source": [
    "n_rounds = 3"
   ]
  },
  {
   "cell_type": "code",
   "execution_count": 70,
   "metadata": {},
   "outputs": [
    {
     "name": "stdout",
     "output_type": "stream",
     "text": [
      "3\n"
     ]
    }
   ],
   "source": [
    "rounds_to_win = n_rounds\n",
    "print(rounds_to_win)"
   ]
  },
  {
   "cell_type": "code",
   "execution_count": 71,
   "metadata": {},
   "outputs": [],
   "source": [
    "cpu_score = []\n",
    "player_score = []\n"
   ]
  },
  {
   "cell_type": "code",
   "execution_count": 74,
   "metadata": {},
   "outputs": [],
   "source": [
    "## 6.6 ####\n",
    "random_choice = 0\n",
    "def random_gesture():\n",
    "    random_choice = random.choice(gestures)\n",
    "    return(random_choice)\n"
   ]
  },
  {
   "cell_type": "code",
   "execution_count": 73,
   "metadata": {},
   "outputs": [],
   "source": [
    "## 6.7 ####\n",
    "def p_choice():\n",
    "    \n",
    "    player_choice = input (\"Choose: rock, paper or scissor\")\n",
    "    \n",
    "    if player_choice == \"rock\" or player_choice == \"Rock\":\n",
    "        player_choice = \"rock\"\n",
    "    \n",
    "    elif player_choice == \"paper\" or player_choice == \"Paper\":\n",
    "        player_choice = \"paper\"\n",
    "\n",
    "    elif player_choice == \"scissor\" or player_choice == \"Scissor\":\n",
    "        player_choice = \"scissor\"\n",
    "    \n",
    "    else:\n",
    "        print(\"Unfortunately, i dont understand this, please try again\")\n",
    "        player_choice = input (\"Choose: rock, paper or scissor\")\n",
    "        \n",
    "    return(player_choice)\n",
    "\n"
   ]
  },
  {
   "cell_type": "code",
   "execution_count": 68,
   "metadata": {},
   "outputs": [
    {
     "name": "stdout",
     "output_type": "stream",
     "text": [
      "Choose: rock, paper or scissorRock\n"
     ]
    },
    {
     "data": {
      "text/plain": [
       "'rock'"
      ]
     },
     "execution_count": 68,
     "metadata": {},
     "output_type": "execute_result"
    }
   ],
   "source": [
    "#kurzer Funktionscheck\n",
    "p_choice()\n",
    "random_gesture()\n",
    "   "
   ]
  },
  {
   "cell_type": "code",
   "execution_count": 75,
   "metadata": {},
   "outputs": [],
   "source": [
    "x=0\n",
    "def who_won (player_choice,random_choice):\n",
    "## Ties###\n",
    "\n",
    "    if player_choice == \"rock\" and random_choice == \"rock\":\n",
    "        x = 0\n",
    "        print(\"Tie!\")\n",
    "        \n",
    "    elif player_choice == \"paper\" and random_choice == \"paper\":\n",
    "        x = 0\n",
    "        print(\"Tie!\")\n",
    "    \n",
    "    elif player_choice == \"scissor\" and random_choice == \"scissor\":\n",
    "        x = 0\n",
    "        print(\"Tie!\")\n",
    "\n",
    "## random (computer wins) ##\n",
    "\n",
    "    elif player_choice == \"scissor\" and random_choice == \"rock\":\n",
    "        x = 1\n",
    "        print(\"Computer wins!\")\n",
    "        \n",
    "    elif player_choice == \"rock\" and random_choice == \"paper\":\n",
    "        x = 1\n",
    "        print(\"Computer wins!\")\n",
    "        \n",
    "    elif player_choice == \"paper\" and random_choice == \"scissor\":\n",
    "        x = 1\n",
    "        print(\"Computer wins!\")\n",
    "        \n",
    "## player wins ##    \n",
    "        \n",
    "    elif player_choice == \"scissor\" and random_choice == \"paper\":\n",
    "        x = 2\n",
    "        print(\"Player wins!\")\n",
    "        \n",
    "    elif player_choice == \"rock\" and random_choice == \"scissor\":\n",
    "        x = 2\n",
    "        print(\"Player wins!\")\n",
    "        \n",
    "    elif player_choice == \"paper\" and random_choice == \"rock\":\n",
    "        x = 2\n",
    "        print(\"Player wins!\")\n",
    "    \n",
    "    "
   ]
  },
  {
   "cell_type": "code",
   "execution_count": null,
   "metadata": {},
   "outputs": [],
   "source": []
  },
  {
   "cell_type": "code",
   "execution_count": null,
   "metadata": {},
   "outputs": [],
   "source": []
  }
 ],
 "metadata": {
  "kernelspec": {
   "display_name": "Python 3",
   "language": "python",
   "name": "python3"
  },
  "language_info": {
   "codemirror_mode": {
    "name": "ipython",
    "version": 3
   },
   "file_extension": ".py",
   "mimetype": "text/x-python",
   "name": "python",
   "nbconvert_exporter": "python",
   "pygments_lexer": "ipython3",
   "version": "3.8.2"
  }
 },
 "nbformat": 4,
 "nbformat_minor": 4
}
